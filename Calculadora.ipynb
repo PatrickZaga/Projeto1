{
  "nbformat": 4,
  "nbformat_minor": 0,
  "metadata": {
    "colab": {
      "provenance": []
    },
    "kernelspec": {
      "name": "python3",
      "display_name": "Python 3"
    },
    "language_info": {
      "name": "python"
    }
  },
  "cells": [
    {
      "cell_type": "code",
      "source": [
        "print('Digite sua senha: ')\n",
        "senha = input()\n",
        "print('Senha registrada é ', senha)\n",
        "print('Digite a senha novamente: ')\n",
        "senha2 = input()\n",
        "if senha == senha2:\n",
        "  print('Senha correta')\n",
        "else:\n",
        "  print('Senha incorreta')"
      ],
      "metadata": {
        "collapsed": true,
        "id": "X4sqkZlkGfe2"
      },
      "execution_count": null,
      "outputs": []
    }
  ]
}
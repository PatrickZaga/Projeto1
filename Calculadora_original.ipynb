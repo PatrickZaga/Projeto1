{
  "nbformat": 4,
  "nbformat_minor": 0,
  "metadata": {
    "colab": {
      "provenance": []
    },
    "kernelspec": {
      "name": "python3",
      "display_name": "Python 3"
    },
    "language_info": {
      "name": "python"
    }
  },
  "cells": [
    {
      "cell_type": "code",
      "source": [
        "print('Está é uma calculadora')\n",
        "\n",
        "valor1 = int(input ('Digite o primeiro valor: '))\n",
        "sinal = input('Digite um sinal:')\n",
        "valor2 = int(input ('Digite o segundo valor: '))\n",
        "\n",
        "if sinal == '+':\n",
        "  print('O resultado dos valores', valor1, sinal, valor2, 'é', valor1 + valor2)\n",
        "elif sinal == \"-\":\n",
        "  print('O resultado dos valores', valor1, sinal, valor2, 'é', valor1 - valor2)\n",
        "elif sinal == '*':\n",
        "  print('O resultado dos valores', valor1, sinal, valor2, 'é', valor1 * valor2)\n",
        "elif sinal == '/':\n",
        "  print('O resultado dos valores', valor1, sinal, valor2, 'é', valor1 / valor2)\n",
        "elif sinal == '%':\n",
        "  print('O resultado dos valores', valor1, sinal, valor2, 'é', valor1 % valor2)\n",
        "elif sinal == '**':\n",
        "  print('O resultado dos valores', valor1, sinal, valor2, 'é', valor1 ** valor2)\n",
        "else:\n",
        "  print('Sinal invalido')\n"
      ],
      "metadata": {
        "id": "cXNBx_u4Nd2O"
      },
      "execution_count": null,
      "outputs": []
    }
  ]
}